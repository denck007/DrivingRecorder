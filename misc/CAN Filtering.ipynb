{
 "cells": [
  {
   "cell_type": "markdown",
   "metadata": {},
   "source": [
    "CAN bus filtering is kind of simple, but hard to wrap your head around\n",
    "\n",
    "http://www.cse.dmu.ac.uk/~eg/tele/CanbusIDandMask.html\n",
    "\n",
    "https://www.microchip.com/forums/m456043.aspx\n",
    "\n",
    "The mask and filter have to be thought of as binary, because thats how they act.\n",
    "\n",
    "\n",
    "If a mask bit is set to 0, the corresponding bit in the ID will be accepted\n",
    "\n",
    "If a mask bit is set to 1, the corresponding bit in the incoming ID must match the filter\n",
    "\n",
    "Note that in these examples I am including a '1' at the begining of the numbers, this is purely to get all 32 bits"
   ]
  },
  {
   "cell_type": "code",
   "execution_count": 41,
   "metadata": {},
   "outputs": [
    {
     "name": "stdout",
     "output_type": "stream",
     "text": [
      "0b10000000000000001010101100111\n",
      "0b10000000000000001010101100111\n",
      "0b11111111111111111111111111111\n"
     ]
    }
   ],
   "source": [
    "# only accept 10001567\n",
    "\n",
    "incoming = '10001567' # is 8 bytes of hex\n",
    "print(bin(int(incoming,base=16)))\n",
    "\n",
    "filt = '10001567'\n",
    "f = bin(int(filt,base=16))\n",
    "print(f)\n",
    "\n",
    "maskVals = '1fffffff'\n",
    "m = bin(int(maskVals,base=16))\n",
    "print(m)"
   ]
  },
  {
   "cell_type": "code",
   "execution_count": 56,
   "metadata": {},
   "outputs": [
    {
     "name": "stdout",
     "output_type": "stream",
     "text": [
      "0b10000000000000001010101101001\n",
      "0b10000000000000001010101101010\n",
      "0b10000000000000001010101101000\n",
      "0b11111111111111111111111111000\n"
     ]
    }
   ],
   "source": [
    "# Accept 10001569 to 10156A\n",
    "\n",
    "baseID = '1000156'\n",
    "for ii in range(int('9',base=16),int('a',base=16)+1):\n",
    "    ID = baseID+str(hex(ii)[-1])\n",
    "    print(bin(int(ID,base=16)))\n",
    "\n",
    "filt = '10001568'\n",
    "f = bin(int(filt,base=16))\n",
    "print(f)\n",
    "\n",
    "maskVals = '1ffffff8'\n",
    "m = bin(int(maskVals,base=16))\n",
    "print(m)"
   ]
  },
  {
   "cell_type": "code",
   "execution_count": 58,
   "metadata": {},
   "outputs": [
    {
     "name": "stdout",
     "output_type": "stream",
     "text": [
      "0b10000000000000000011100111000\n",
      "0b10000000000000000011100111001\n",
      "0b10000000000000000011100111000\n",
      "0b11111111111111111111111111100\n"
     ]
    }
   ],
   "source": [
    "# Accept 10000738 to 10000739\n",
    "\n",
    "baseID = '1000073'\n",
    "for ii in range(int('8',base=16),int('9',base=16)+1):\n",
    "    ID = baseID+str(hex(ii)[-1])\n",
    "    print(bin(int(ID,base=16)))\n",
    "\n",
    "filt = '10000738'\n",
    "f = bin(int(filt,base=16))\n",
    "print(f)\n",
    "\n",
    "maskVals = '1ffffffc'\n",
    "m = bin(int(maskVals,base=16))\n",
    "print(m)"
   ]
  },
  {
   "cell_type": "code",
   "execution_count": 63,
   "metadata": {},
   "outputs": [
    {
     "name": "stdout",
     "output_type": "stream",
     "text": [
      "0b10000000000000000011101101000\n",
      "0b10000000000000000011101101000\n",
      "0b11111111111111111111111111111\n"
     ]
    }
   ],
   "source": [
    "# Accept 10000768\n",
    "\n",
    "\n",
    "incoming = '10000768' # is 8 bytes of hex\n",
    "print(bin(int(incoming,base=16)))\n",
    "\n",
    "filt = '10000768'\n",
    "f = bin(int(filt,base=16))\n",
    "print(f)\n",
    "\n",
    "maskVals = '1fffffff'\n",
    "m = bin(int(maskVals,base=16))\n",
    "print(m)"
   ]
  },
  {
   "cell_type": "code",
   "execution_count": null,
   "metadata": {
    "collapsed": true
   },
   "outputs": [],
   "source": []
  }
 ],
 "metadata": {
  "kernelspec": {
   "display_name": "Python 3",
   "language": "python",
   "name": "python3"
  },
  "language_info": {
   "codemirror_mode": {
    "name": "ipython",
    "version": 3
   },
   "file_extension": ".py",
   "mimetype": "text/x-python",
   "name": "python",
   "nbconvert_exporter": "python",
   "pygments_lexer": "ipython3",
   "version": "3.6.3"
  }
 },
 "nbformat": 4,
 "nbformat_minor": 2
}
