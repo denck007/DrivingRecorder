{
 "cells": [
  {
   "cell_type": "markdown",
   "metadata": {},
   "source": [
    "# Working out how to filter and interpolate data\n",
    "This is just an exploritory file, the actual functions were sped up a little and fully implented into a tool in the tools/convertCANData.py file."
   ]
  },
  {
   "cell_type": "markdown",
   "metadata": {},
   "source": [
    "We need a way to interopolate the car parameters at each image.\n",
    "\n",
    "The way I am going to apporach this is:\n",
    "1. For each car parameter, remove any data that does not have a data point within maxDelta\n",
    "2. Get a list of times there are images for\n",
    "3. for each car parameter, remove any images that there is not data within maxDelta time\n",
    "4. Create an interpolation function for each car parameter\n",
    "5. For each remaining image, interpolate the car parameter at the image time.\n",
    "6. Save a csv with image names and car parameters for each image\n",
    "\n",
    "\n",
    "## approach to filtering the data by image times\n",
    "* get np array of image time stamps\n",
    "* get np array of datapoint time stamps\n",
    "* do a mesh grid of the 2 arrays\n",
    "* * need to track which one is the image and which is data point meshes\n",
    "* subtract the arrays\n",
    "* np.where np.abs(value) > max delta # abs is needed so it can be +/-\n",
    "* * note which index is which\n",
    "* in the output that is for the data points, remove all data points that are not listed from the data frame\n",
    "* in the output indicies for the images, remove any image indicies from the image time list that do not show up in the np.where output.\n",
    "\n",
    "\n",
    "This should only need to be run over the data once. I think this because: in each dataframe an image may be removed, but we will only be interpolating the dataframe to the images that remain at the end. This means that there may be data left in the data frame for say steering, even though there is no speed data near this time. When the image time filtering is run on the speed data, it will remove the image at times where speed is missing. When the final interpolation happens, it will be based purely on the remaining images. "
   ]
  },
  {
   "cell_type": "code",
   "execution_count": 1,
   "metadata": {
    "collapsed": true
   },
   "outputs": [],
   "source": [
    "import pandas as pd\n",
    "import os\n",
    "import numpy as np\n",
    "import matplotlib.pyplot as plt"
   ]
  },
  {
   "cell_type": "code",
   "execution_count": 2,
   "metadata": {
    "collapsed": true
   },
   "outputs": [],
   "source": [
    "def filterDataByDelta(data,maxDelta=1.0):\n",
    "    '''\n",
    "    Takes in a data frame with the columns: TimeStamp and output\n",
    "    Returns a dataframe with columns: TimeStamp and output that has 1 less row the the source dataframe\n",
    "    \n",
    "    Filters the data frame so that any output row that does not have an output in the \n",
    "        next maxDeta seconds is removed\n",
    "    '''\n",
    "    ts = pd.DataFrame(data.TimeStamp[:-1]) # get first time stamp, drop last point\n",
    "    ts2 = pd.DataFrame(data.TimeStamp[1:]) # get the next time stamp, drop first point\n",
    "    data = data[:-1] # remove last data point\n",
    "    ts2 = ts2.reset_index(drop=True) # reset the index \n",
    "    delta = ts2-ts# compute delta\n",
    "    data = data.assign(delta=delta) # put the delta column into data frame\n",
    "    data = data[data.delta<maxDelta] # filter out deltas that are too big\n",
    "    data = data.reset_index() # need to reset at the end\n",
    "    data = data.drop(labels=\"delta\",axis=1) # get rid of delta column\n",
    "\n",
    "    return data"
   ]
  },
  {
   "cell_type": "code",
   "execution_count": 3,
   "metadata": {
    "collapsed": true
   },
   "outputs": [],
   "source": [
    "def GetData(path,dataType,maxDelta=1.0):\n",
    "    if not dataType.endswith(\".csv\"):\n",
    "        dataType = dataType + \".csv\"\n",
    "    fileName = os.path.join(path,dataType)\n",
    "    assert os.path.isfile(fileName), \"File does not exist: {}\".format(fileName)\n",
    "    \n",
    "    data = pd.read_csv(fileName)\n",
    "    data = filterDataByDelta(data)\n",
    "    data = data.sort_values(\"TimeStamp\")\n",
    "    return data    "
   ]
  },
  {
   "cell_type": "code",
   "execution_count": 4,
   "metadata": {
    "collapsed": true
   },
   "outputs": [],
   "source": [
    "def GetImageTimes(path,extension=\"jpeg\"):\n",
    "    '''\n",
    "    Given a path and extension(default=jpeg), get all the files in the path that match the extension\n",
    "    Return a list of times\n",
    "    \n",
    "    This assumes that file names are decimal times in seconds\n",
    "    '''\n",
    "    assert os.path.exists(path), \"Provided path does not exist!\\n{}\".format(path)\n",
    "    imgs = [x for x in os.listdir(path) if extension in x]\n",
    "    assert len(imgs) > 2, \"There must be at least 2 images of type {} in the path {}\".format(extension,path)    \n",
    "    \n",
    "    extensionLength = len(extension)+1\n",
    "    times = [float(t[:-extensionLength]) for t in imgs]\n",
    "    times = np.array(times)\n",
    "    times = np.sort(times)\n",
    "\n",
    "    return times"
   ]
  },
  {
   "cell_type": "code",
   "execution_count": 5,
   "metadata": {
    "collapsed": true
   },
   "outputs": [],
   "source": [
    "def filterImgTimesByDataTimes(imgTimes,dataTimes,maxDelta=1.0):\n",
    "    '''\n",
    "    Given np arrays of image times and data times, \n",
    "        filter the image times so that there is always a data point within maxDelta of the image\n",
    "    1) get 1D array of times of images, imgTimes\n",
    "    2) get 1D array of times of samples, dataTimes\n",
    "    3) IMGTimes,DATATimes = np.meshgrid(imgTimes,dataTimes)\n",
    "    4) locs = np.where(np.abs(IMGTimes-DATATimes)<=maxDelta)\n",
    "    * The result in locs is (idx of dataTimes, idx of imgTimes)\n",
    "    5) imgLocs = np.unique(locs[1])\n",
    "    6) imgTimes = imgTimes[imgLocs]\n",
    "    '''\n",
    "    dataTimes = np.sort(dataTimes)\n",
    "    IMGTimes,DATATimes = np.meshgrid(imgTimes,dataTimes)\n",
    "    locs = np.where(np.abs(IMGTimes-DATATimes)<maxDelta)\n",
    "    imgLocs = np.unique(locs[1])\n",
    "    return imgTimes[imgLocs]"
   ]
  },
  {
   "cell_type": "code",
   "execution_count": null,
   "metadata": {
    "collapsed": true
   },
   "outputs": [],
   "source": []
  },
  {
   "cell_type": "code",
   "execution_count": 29,
   "metadata": {
    "scrolled": false
   },
   "outputs": [
    {
     "name": "stdout",
     "output_type": "stream",
     "text": [
      "Starting with 12888 image times\n",
      "Now have 12782 image times after filtering with steeringWheelAngle\n",
      "Now have 12715 image times after filtering with steeringWheelTorque\n",
      "Now have 12710 image times after filtering with turnSignal\n",
      "Now have 12690 image times after filtering with vehicleSpeed\n"
     ]
    },
    {
     "data": {
      "image/png": "[encoded data removed]",
      "text/plain": [
       "<matplotlib.figure.Figure at 0x7f4e517045f8>"
      ]
     },
     "metadata": {},
     "output_type": "display_data"
    }
   ],
   "source": [
    "path = \"/home/neil/car/DrivingData/20180604\"\n",
    "dataToExtract = [\"steeringWheelAngle\",\"steeringWheelTorque\",\"turnSignal\",\"vehicleSpeed\"]#,\"throttlePosition\"]\n",
    "maxDelta = 1\n",
    "imgTimes = GetImageTimes(os.path.join(path,\"imgs\"))\n",
    "print(\"Starting with {} image times\".format(len(imgTimes)))\n",
    "plt.plot(imgTimes,np.zeros(imgTimes.shape[0]),'*',label=\"OriginalTimes\")\n",
    "\n",
    "data = {}\n",
    "for idx,d in enumerate(dataToExtract):\n",
    "    data.update({d:GetData(path,d,maxDelta=maxDelta)})\n",
    "    dataTimes = np.array(data[d].TimeStamp)\n",
    "    imgTimes = filterImgTimesByDataTimes(imgTimes,dataTimes,maxDelta=maxDelta)\n",
    "    print(\"Now have {} image times after filtering with {}\".format(len(imgTimes),d))\n",
    "    plt.plot(imgTimes,np.zeros(imgTimes.shape[0])-idx-1,'*',label=\"Post {} filter\".format(d))\n",
    "plt.legend()\n",
    "plt.show()\n",
    "\n",
    "# now get the values at each imgTime\n",
    "interpolatedData = pd.DataFrame(imgTimes,columns=[\"TimeStamp\"])\n",
    "interpolatedData = interpolatedData.sort_values(\"TimeStamp\")\n",
    "for idx,d in enumerate(dataToExtract):\n",
    "    rawX = np.array(data[d].TimeStamp)\n",
    "    rawY = np.array(data[d].output)\n",
    "    interpolatedData[d] = np.interp(imgTimes,rawX,rawY)\n",
    "    \n",
    "interpolatedData.to_csv(os.path.join(path,\"interpolatedData.csv\"),index=False)"
   ]
  },
  {
   "cell_type": "code",
   "execution_count": null,
   "metadata": {
    "collapsed": true
   },
   "outputs": [],
   "source": []
  }
 ],
 "metadata": {
  "kernelspec": {
   "display_name": "Python 3",
   "language": "python",
   "name": "python3"
  },
  "language_info": {
   "codemirror_mode": {
    "name": "ipython",
    "version": 3
   },
   "file_extension": ".py",
   "mimetype": "text/x-python",
   "name": "python",
   "nbconvert_exporter": "python",
   "pygments_lexer": "ipython3",
   "version": "3.6.3"
  }
 },
 "nbformat": 4,
 "nbformat_minor": 2
}
