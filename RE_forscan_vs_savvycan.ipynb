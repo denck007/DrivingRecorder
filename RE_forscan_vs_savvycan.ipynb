{
 "cells": [
  {
   "cell_type": "markdown",
   "metadata": {},
   "source": [
    "# Reverse Engineering what the raw CAN packets mean\n",
    "Going to leverage data from forscan to see what they mean"
   ]
  },
  {
   "cell_type": "code",
   "execution_count": 1,
   "metadata": {
    "collapsed": true
   },
   "outputs": [],
   "source": [
    "import pandas as pd\n",
    "import matplotlib.pyplot as plt\n",
    "import numpy as np\n",
    "import struct"
   ]
  },
  {
   "cell_type": "code",
   "execution_count": 2,
   "metadata": {
    "collapsed": true
   },
   "outputs": [],
   "source": [
    "fnameFORScan = \"~/car/CANDumps/steeringTest_forscan_20180604_01.csv\"\n",
    "fnameSavvyCAN = \"~/car/CANDumps/steeringTest_SavvyCAN_20180604_01.csv\""
   ]
  },
  {
   "cell_type": "code",
   "execution_count": 44,
   "metadata": {
    "collapsed": true
   },
   "outputs": [],
   "source": [
    "def readFORScan(fname):\n",
    "    ''' \n",
    "    read a forscan output file to a dataframe\n",
    "    # format is:\n",
    "    | time[ms] | DATA1 | DATA2 | ... | DATA3 |\n",
    "    |  <time>  | <val> | <val> | ... | <val> |\n",
    "    '''\n",
    "    \n",
    "    delimiters = [\",\",\";\"]\n",
    "    for delim in delimiters:\n",
    "        try:\n",
    "            data = pd.read_csv(fnameFORScan,delimiter=delim)\n",
    "            break\n",
    "        except:\n",
    "            print(\"Delimiter is not {}\".format(delim))\n",
    "\n",
    "    #clean up column names\n",
    "    newCols = {}\n",
    "    for col in data.columns:\n",
    "        loc = col.find(\"(\")\n",
    "        if loc > 0:\n",
    "            newCols.update({col:col[:loc]})\n",
    "    data = data.rename(index=bytes,columns=newCols)\n",
    "    data = data[data.time>1000] # eliminate the first second of data, may have bad values\n",
    "    data = data.reset_index(drop=True) # reset the inde\n",
    "    for c in cols:\n",
    "        if data[c][0] == \"Off\" or data[c][0] == \"On\":\n",
    "            data[c][data[c] == \"Off\"] = 0\n",
    "            data[c][data[c] == \"On\"] = 1\n",
    "\n",
    "    data = data.astype(np.float32)\n",
    "    data[\"time\"] = data.apply(lambda row: row[\"time\"]/1e3,axis=1)\n",
    "    return data\n",
    "\n",
    "def readSavvyCAN(fname):\n",
    "    '''\n",
    "    read the savvycan dump to a dataframe\n",
    "    '''\n",
    "    dtype = {'Time Stamp':np.float32, 'ID':bytes, 'Extended':bool, 'Dir':str, 'Bus':int, 'LEN':int,\n",
    "                            'D1':bytes, 'D2':bytes, 'D3':bytes,'D4':bytes, 'D5':bytes, 'D6':bytes, 'D7':bytes, 'D8':bytes}\n",
    "    data = pd.read_csv(fname,index_col=False,dtype=dtype)# savvycan adds extra comma at end of line\n",
    "    \n",
    "    def convertToBytes(x):\n",
    "        return bytes.fromhex(x)\n",
    "    for col in [\"ID\",\"D1\",\"D2\",\"D3\",\"D4\",\"D5\",\"D6\",\"D7\",\"D8\"]:\n",
    "        data[col] = data.apply(lambda row: convertToBytes(row[col]),axis=1)\n",
    "        \n",
    "    minVal = data[\"Time Stamp\"].min()/1e6\n",
    "    \n",
    "    data[\"Time Stamp\"] = data.apply(lambda row: row[\"Time Stamp\"]/1e6-minVal,axis=1)\n",
    "\n",
    "    return data"
   ]
  },
  {
   "cell_type": "code",
   "execution_count": 45,
   "metadata": {
    "collapsed": true
   },
   "outputs": [],
   "source": [
    "def convertTo_int8(data):\n",
    "    '''\n",
    "    Convert bytes into signed 8bit integer values\n",
    "    '''\n",
    "    length = len(data)\n",
    "    \n",
    "    return struct.unpack(length*\"b\",data)\n",
    "\n",
    "def convertTo_uint8(data):\n",
    "    '''\n",
    "    Convert bytes into un-signed 8bit integer values\n",
    "    '''\n",
    "    length = len(data)\n",
    "    return struct.unpack(length*\"B\",data)\n",
    "\n",
    "def convertTo_int16(data):\n",
    "    '''\n",
    "    Convert 2 bytes into signed 16bit integer values\n",
    "    '''\n",
    "    return struct.unpack(\"h\",data)[0]"
   ]
  },
  {
   "cell_type": "code",
   "execution_count": 46,
   "metadata": {
    "scrolled": true
   },
   "outputs": [
    {
     "name": "stderr",
     "output_type": "stream",
     "text": [
      "/home/neil/anaconda3/lib/python3.6/site-packages/ipykernel_launcher.py:28: SettingWithCopyWarning: \n",
      "A value is trying to be set on a copy of a slice from a DataFrame\n",
      "\n",
      "See the caveats in the documentation: http://pandas.pydata.org/pandas-docs/stable/indexing.html#indexing-view-versus-copy\n",
      "/home/neil/anaconda3/lib/python3.6/site-packages/ipykernel_launcher.py:29: SettingWithCopyWarning: \n",
      "A value is trying to be set on a copy of a slice from a DataFrame\n",
      "\n",
      "See the caveats in the documentation: http://pandas.pydata.org/pandas-docs/stable/indexing.html#indexing-view-versus-copy\n"
     ]
    }
   ],
   "source": [
    "dff = readFORScan(fnameFORScan)\n",
    "dfs = readSavvyCAN(fnameSavvyCAN)"
   ]
  },
  {
   "cell_type": "markdown",
   "metadata": {},
   "source": [
    "# Steering Angle\n",
    "ID: \\x738    Data: \\x05 \\x62 \\x33 \\x02\n",
    "\n",
    "Convert by: struct.unpack(\"h\",byte6 + byte5)[0]/30\n",
    "\n",
    "Units: Degrees"
   ]
  },
  {
   "cell_type": "code",
   "execution_count": 47,
   "metadata": {},
   "outputs": [
    {
     "name": "stdout",
     "output_type": "stream",
     "text": [
      "min: -523.5999755859375 max: 409.0\n"
     ]
    },
    {
     "data": {
      "image/png": "[encoded data removed]",
      "text/plain": [
       "<matplotlib.figure.Figure at 0x7f86cd6b7438>"
      ]
     },
     "metadata": {},
     "output_type": "display_data"
    },
    {
     "data": {
      "image/png": "[encoded data removed]",
      "text/plain": [
       "<matplotlib.figure.Figure at 0x7f86cd660128>"
      ]
     },
     "metadata": {},
     "output_type": "display_data"
    }
   ],
   "source": [
    "# filter by steering angle\n",
    "angle = dfs[(dfs[\"ID\"]==b\"\\x00\\x00\\x07\\x38\") & (dfs[\"D1\"]==b\"\\x05\")& (dfs[\"D2\"]==b\"\\x62\")& (dfs[\"D3\"]==b\"\\x33\")& (dfs[\"D4\"]==b\"\\x02\")]\n",
    "angle = angle.reset_index(drop=True)\n",
    "\n",
    "print(\"min: {} max: {}\".format(dff[\"STR_ANG\"].min(),dff[\"STR_ANG\"].max()))\n",
    "plt.plot(dff[\"time\"],dff[\"STR_ANG\"])\n",
    "plt.show()\n",
    "\n",
    "d = angle.apply(lambda row: convertTo_int16(row[\"D6\"]+row[\"D5\"]),axis=1)\n",
    "d = d/30\n",
    "plt.plot(angle[\"Time Stamp\"],d)\n",
    "plt.show()"
   ]
  },
  {
   "cell_type": "markdown",
   "metadata": {},
   "source": [
    "# Steering Torque\n",
    "ID: \\x738    Data: \\x04 \\x62 \\x33 \\x0B\n",
    "\n",
    "Convert by:(struct.unpack(\"B\",byte5)[0]-127)/10\n",
    "\n",
    "Units: N*m"
   ]
  },
  {
   "cell_type": "code",
   "execution_count": 48,
   "metadata": {},
   "outputs": [
    {
     "name": "stdout",
     "output_type": "stream",
     "text": [
      "min: -6.699999809265137 max: 7.400000095367432\n"
     ]
    },
    {
     "data": {
      "image/png": "[encoded data removed]",
      "text/plain": [
       "<matplotlib.figure.Figure at 0x7f86cd6fc978>"
      ]
     },
     "metadata": {},
     "output_type": "display_data"
    },
    {
     "name": "stdout",
     "output_type": "stream",
     "text": [
      "min: -6.7 max: 7.4\n"
     ]
    },
    {
     "data": {
      "image/png": "[encoded data removed]",
      "text/plain": [
       "<matplotlib.figure.Figure at 0x7f86dd73a320>"
      ]
     },
     "metadata": {},
     "output_type": "display_data"
    }
   ],
   "source": [
    "# filter by steering angle\n",
    "torque = dfs[(dfs[\"ID\"]==b\"\\x00\\x00\\x07\\x38\") & (dfs[\"D1\"]==b\"\\x04\")& (dfs[\"D2\"]==b\"\\x62\")& (dfs[\"D3\"]==b\"\\x33\")& (dfs[\"D4\"]==b\"\\x0b\")]\n",
    "torque = torque.reset_index(drop=True)\n",
    "\n",
    "print(\"min: {} max: {}\".format(dff[\"STR_TRQ_S_M\"].min(),dff[\"STR_TRQ_S_M\"].max()))\n",
    "plt.plot(dff[\"time\"],dff[\"STR_TRQ_S_M\"])\n",
    "plt.show()\n",
    "\n",
    "t = torque.apply(lambda row: convertTo_uint8(row[\"D5\"])[0],axis=1)\n",
    "t = (t-127)/10\n",
    "print(\"min: {} max: {}\".format(t.min(),t.max()))\n",
    "plt.plot(torque[\"Time Stamp\"],t)\n",
    "plt.show()"
   ]
  },
  {
   "cell_type": "markdown",
   "metadata": {},
   "source": [
    "# Steering Speed\n",
    "## It looks like the numbers are likely too small for FORScan to output by default\n",
    "ID: \\x738    Data: \\x04 \\x62 \\x33 \\x01\n",
    "\n",
    "Convert by:\n",
    "\n",
    "Units: rev/min\n"
   ]
  },
  {
   "cell_type": "code",
   "execution_count": 49,
   "metadata": {},
   "outputs": [
    {
     "name": "stdout",
     "output_type": "stream",
     "text": [
      "min: 0.0 max: 0.0\n"
     ]
    },
    {
     "data": {
      "image/png": "[encoded data removed]",
      "text/plain": [
       "<matplotlib.figure.Figure at 0x7f86dca0b908>"
      ]
     },
     "metadata": {},
     "output_type": "display_data"
    },
    {
     "name": "stdout",
     "output_type": "stream",
     "text": [
      "min: 0 max: 110\n"
     ]
    },
    {
     "data": {
      "image/png": "[encoded data removed]",
      "text/plain": [
       "<matplotlib.figure.Figure at 0x7f86cd437438>"
      ]
     },
     "metadata": {},
     "output_type": "display_data"
    }
   ],
   "source": [
    "speed = dfs[(dfs[\"ID\"]==b\"\\x00\\x00\\x07\\x38\") & (dfs[\"D1\"]==b\"\\x04\")& (dfs[\"D2\"]==b\"\\x62\")& (dfs[\"D3\"]==b\"\\x33\")& (dfs[\"D4\"]==b\"\\x01\")]\n",
    "speed = speed.reset_index(drop=True)\n",
    "\n",
    "print(\"min: {} max: {}\".format(dff[\"STR_ROT_SPD\"].min(),dff[\"STR_ROT_SPD\"].max()))\n",
    "plt.plot(dff[\"time\"],dff[\"STR_ROT_SPD\"])\n",
    "plt.show()\n",
    "\n",
    "s = speed.apply(lambda row: convertTo_uint8(row[\"D5\"])[0],axis=1)\n",
    "print(\"min: {} max: {}\".format(s.min(),s.max()))\n",
    "plt.plot(torque[\"Time Stamp\"],s)\n",
    "plt.show()"
   ]
  },
  {
   "cell_type": "code",
   "execution_count": null,
   "metadata": {
    "collapsed": true
   },
   "outputs": [],
   "source": []
  },
  {
   "cell_type": "code",
   "execution_count": null,
   "metadata": {
    "collapsed": true
   },
   "outputs": [],
   "source": []
  },
  {
   "cell_type": "code",
   "execution_count": 50,
   "metadata": {
    "scrolled": true
   },
   "outputs": [
    {
     "name": "stderr",
     "output_type": "stream",
     "text": [
      "/home/neil/anaconda3/lib/python3.6/site-packages/ipykernel_launcher.py:28: SettingWithCopyWarning: \n",
      "A value is trying to be set on a copy of a slice from a DataFrame\n",
      "\n",
      "See the caveats in the documentation: http://pandas.pydata.org/pandas-docs/stable/indexing.html#indexing-view-versus-copy\n",
      "/home/neil/anaconda3/lib/python3.6/site-packages/ipykernel_launcher.py:29: SettingWithCopyWarning: \n",
      "A value is trying to be set on a copy of a slice from a DataFrame\n",
      "\n",
      "See the caveats in the documentation: http://pandas.pydata.org/pandas-docs/stable/indexing.html#indexing-view-versus-copy\n"
     ]
    }
   ],
   "source": [
    "fnameFORScan = \"~/car/CANDumps/steeringTest_forscan_20180524_01.csv\"\n",
    "fnameSavvyCAN = \"~/car/CANDumps/steeringTest_SavvyCAN_20180524_01.csv\"\n",
    "dff = readFORScan(fnameFORScan)\n",
    "dfs = readSavvyCAN(fnameSavvyCAN)"
   ]
  },
  {
   "cell_type": "code",
   "execution_count": 55,
   "metadata": {
    "scrolled": true
   },
   "outputs": [
    {
     "data": {
      "text/html": [
       "<div>\n",
       "<style scoped>\n",
       "    .dataframe tbody tr th:only-of-type {\n",
       "        vertical-align: middle;\n",
       "    }\n",
       "\n",
       "    .dataframe tbody tr th {\n",
       "        vertical-align: top;\n",
       "    }\n",
       "\n",
       "    .dataframe thead th {\n",
       "        text-align: right;\n",
       "    }\n",
       "</style>\n",
       "<table border=\"1\" class=\"dataframe\">\n",
       "  <thead>\n",
       "    <tr style=\"text-align: right;\">\n",
       "      <th></th>\n",
       "      <th>time</th>\n",
       "      <th>BRK_F_P_C</th>\n",
       "      <th>BRK_F_P_R</th>\n",
       "      <th>STR_ANG</th>\n",
       "      <th>STR_ANG_EST</th>\n",
       "      <th>STR_ROT_SPD</th>\n",
       "      <th>STR_TRQ_S_M</th>\n",
       "      <th>STR_TRQ_S_S</th>\n",
       "      <th>TURN_SW_L</th>\n",
       "      <th>TURN_SW_R</th>\n",
       "      <th>TACHOMTR</th>\n",
       "      <th>TP</th>\n",
       "      <th>TP_REL</th>\n",
       "    </tr>\n",
       "  </thead>\n",
       "  <tbody>\n",
       "    <tr>\n",
       "      <th>0</th>\n",
       "      <td>1.084</td>\n",
       "      <td>0.0</td>\n",
       "      <td>0.0</td>\n",
       "      <td>-65.900002</td>\n",
       "      <td>0.0</td>\n",
       "      <td>0.0</td>\n",
       "      <td>0.1</td>\n",
       "      <td>0.0</td>\n",
       "      <td>0.0</td>\n",
       "      <td>0.0</td>\n",
       "      <td>500.0</td>\n",
       "      <td>11.37</td>\n",
       "      <td>2.35</td>\n",
       "    </tr>\n",
       "    <tr>\n",
       "      <th>1</th>\n",
       "      <td>1.123</td>\n",
       "      <td>0.0</td>\n",
       "      <td>0.0</td>\n",
       "      <td>-65.900002</td>\n",
       "      <td>0.0</td>\n",
       "      <td>0.0</td>\n",
       "      <td>0.1</td>\n",
       "      <td>0.0</td>\n",
       "      <td>0.0</td>\n",
       "      <td>0.0</td>\n",
       "      <td>500.0</td>\n",
       "      <td>11.37</td>\n",
       "      <td>2.35</td>\n",
       "    </tr>\n",
       "    <tr>\n",
       "      <th>2</th>\n",
       "      <td>1.371</td>\n",
       "      <td>0.0</td>\n",
       "      <td>0.0</td>\n",
       "      <td>-65.900002</td>\n",
       "      <td>0.0</td>\n",
       "      <td>0.0</td>\n",
       "      <td>0.1</td>\n",
       "      <td>0.0</td>\n",
       "      <td>0.0</td>\n",
       "      <td>0.0</td>\n",
       "      <td>500.0</td>\n",
       "      <td>11.37</td>\n",
       "      <td>2.35</td>\n",
       "    </tr>\n",
       "    <tr>\n",
       "      <th>3</th>\n",
       "      <td>1.482</td>\n",
       "      <td>0.0</td>\n",
       "      <td>0.0</td>\n",
       "      <td>-65.900002</td>\n",
       "      <td>0.0</td>\n",
       "      <td>0.0</td>\n",
       "      <td>0.1</td>\n",
       "      <td>0.0</td>\n",
       "      <td>0.0</td>\n",
       "      <td>0.0</td>\n",
       "      <td>500.0</td>\n",
       "      <td>11.37</td>\n",
       "      <td>2.35</td>\n",
       "    </tr>\n",
       "    <tr>\n",
       "      <th>4</th>\n",
       "      <td>1.531</td>\n",
       "      <td>0.0</td>\n",
       "      <td>0.0</td>\n",
       "      <td>-65.900002</td>\n",
       "      <td>0.0</td>\n",
       "      <td>0.0</td>\n",
       "      <td>0.1</td>\n",
       "      <td>0.0</td>\n",
       "      <td>0.0</td>\n",
       "      <td>0.0</td>\n",
       "      <td>500.0</td>\n",
       "      <td>11.37</td>\n",
       "      <td>2.35</td>\n",
       "    </tr>\n",
       "    <tr>\n",
       "      <th>5</th>\n",
       "      <td>1.676</td>\n",
       "      <td>0.0</td>\n",
       "      <td>0.0</td>\n",
       "      <td>-65.900002</td>\n",
       "      <td>0.0</td>\n",
       "      <td>0.0</td>\n",
       "      <td>0.1</td>\n",
       "      <td>0.0</td>\n",
       "      <td>0.0</td>\n",
       "      <td>0.0</td>\n",
       "      <td>500.0</td>\n",
       "      <td>11.37</td>\n",
       "      <td>2.35</td>\n",
       "    </tr>\n",
       "    <tr>\n",
       "      <th>6</th>\n",
       "      <td>1.776</td>\n",
       "      <td>0.0</td>\n",
       "      <td>0.0</td>\n",
       "      <td>-65.900002</td>\n",
       "      <td>0.0</td>\n",
       "      <td>0.0</td>\n",
       "      <td>0.1</td>\n",
       "      <td>0.0</td>\n",
       "      <td>0.0</td>\n",
       "      <td>0.0</td>\n",
       "      <td>500.0</td>\n",
       "      <td>11.37</td>\n",
       "      <td>1.96</td>\n",
       "    </tr>\n",
       "    <tr>\n",
       "      <th>7</th>\n",
       "      <td>1.812</td>\n",
       "      <td>0.0</td>\n",
       "      <td>0.0</td>\n",
       "      <td>-66.300003</td>\n",
       "      <td>0.0</td>\n",
       "      <td>0.0</td>\n",
       "      <td>0.1</td>\n",
       "      <td>0.0</td>\n",
       "      <td>0.0</td>\n",
       "      <td>0.0</td>\n",
       "      <td>500.0</td>\n",
       "      <td>11.37</td>\n",
       "      <td>1.96</td>\n",
       "    </tr>\n",
       "    <tr>\n",
       "      <th>8</th>\n",
       "      <td>1.853</td>\n",
       "      <td>0.0</td>\n",
       "      <td>0.0</td>\n",
       "      <td>-66.699997</td>\n",
       "      <td>0.0</td>\n",
       "      <td>0.0</td>\n",
       "      <td>-0.1</td>\n",
       "      <td>0.0</td>\n",
       "      <td>0.0</td>\n",
       "      <td>0.0</td>\n",
       "      <td>500.0</td>\n",
       "      <td>11.37</td>\n",
       "      <td>1.96</td>\n",
       "    </tr>\n",
       "    <tr>\n",
       "      <th>9</th>\n",
       "      <td>1.891</td>\n",
       "      <td>0.0</td>\n",
       "      <td>0.0</td>\n",
       "      <td>-67.099998</td>\n",
       "      <td>0.0</td>\n",
       "      <td>0.0</td>\n",
       "      <td>-0.2</td>\n",
       "      <td>-0.2</td>\n",
       "      <td>0.0</td>\n",
       "      <td>0.0</td>\n",
       "      <td>500.0</td>\n",
       "      <td>11.37</td>\n",
       "      <td>1.96</td>\n",
       "    </tr>\n",
       "  </tbody>\n",
       "</table>\n",
       "</div>"
      ],
      "text/plain": [
       "    time  BRK_F_P_C  BRK_F_P_R    STR_ANG  STR_ANG_EST  STR_ROT_SPD  \\\n",
       "0  1.084        0.0        0.0 -65.900002          0.0          0.0   \n",
       "1  1.123        0.0        0.0 -65.900002          0.0          0.0   \n",
       "2  1.371        0.0        0.0 -65.900002          0.0          0.0   \n",
       "3  1.482        0.0        0.0 -65.900002          0.0          0.0   \n",
       "4  1.531        0.0        0.0 -65.900002          0.0          0.0   \n",
       "5  1.676        0.0        0.0 -65.900002          0.0          0.0   \n",
       "6  1.776        0.0        0.0 -65.900002          0.0          0.0   \n",
       "7  1.812        0.0        0.0 -66.300003          0.0          0.0   \n",
       "8  1.853        0.0        0.0 -66.699997          0.0          0.0   \n",
       "9  1.891        0.0        0.0 -67.099998          0.0          0.0   \n",
       "\n",
       "   STR_TRQ_S_M  STR_TRQ_S_S  TURN_SW_L  TURN_SW_R  TACHOMTR     TP  TP_REL  \n",
       "0          0.1          0.0        0.0        0.0     500.0  11.37    2.35  \n",
       "1          0.1          0.0        0.0        0.0     500.0  11.37    2.35  \n",
       "2          0.1          0.0        0.0        0.0     500.0  11.37    2.35  \n",
       "3          0.1          0.0        0.0        0.0     500.0  11.37    2.35  \n",
       "4          0.1          0.0        0.0        0.0     500.0  11.37    2.35  \n",
       "5          0.1          0.0        0.0        0.0     500.0  11.37    2.35  \n",
       "6          0.1          0.0        0.0        0.0     500.0  11.37    1.96  \n",
       "7          0.1          0.0        0.0        0.0     500.0  11.37    1.96  \n",
       "8         -0.1          0.0        0.0        0.0     500.0  11.37    1.96  \n",
       "9         -0.2         -0.2        0.0        0.0     500.0  11.37    1.96  "
      ]
     },
     "execution_count": 55,
     "metadata": {},
     "output_type": "execute_result"
    }
   ],
   "source": [
    "dff[:10]"
   ]
  },
  {
   "cell_type": "markdown",
   "metadata": {},
   "source": [
    "# Turn Signal \n",
    "ID: \\x739    Data: \\x05 \\x62 \\xD9 \\x80\n",
    "\n",
    "Convert by:\n",
    "  * None On: byte5 == b'\\x10'\n",
    "  * Left:    byte5 == b'\\x11'\n",
    "  * Right:   byte5 == b'\\x12'\n",
    "\n",
    "Units: Bool\n"
   ]
  },
  {
   "cell_type": "code",
   "execution_count": 82,
   "metadata": {
    "scrolled": false
   },
   "outputs": [
    {
     "data": {
      "image/png": "[encoded data removed]",
      "text/plain": [
       "<matplotlib.figure.Figure at 0x7f86ccfe1ba8>"
      ]
     },
     "metadata": {},
     "output_type": "display_data"
    },
    {
     "data": {
      "image/png": "[encoded data removed]",
      "text/plain": [
       "<matplotlib.figure.Figure at 0x7f86cd758588>"
      ]
     },
     "metadata": {},
     "output_type": "display_data"
    },
    {
     "data": {
      "image/png": "[encoded data removed]",
      "text/plain": [
       "<matplotlib.figure.Figure at 0x7f86cd44bda0>"
      ]
     },
     "metadata": {},
     "output_type": "display_data"
    },
    {
     "name": "stdout",
     "output_type": "stream",
     "text": [
      "Unique values for signal: [b'\\x10' b'\\x11' b'\\x12']\n"
     ]
    }
   ],
   "source": [
    "signal = dfs[(dfs[\"ID\"]==b\"\\x00\\x00\\x07\\x39\") & (dfs[\"D1\"]==b\"\\x05\")& (dfs[\"D2\"]==b\"\\x62\")& (dfs[\"D3\"]==b\"\\xD9\")& (dfs[\"D4\"]==b\"\\x80\")]\n",
    "signal = signal.reset_index(drop=True)\n",
    "\n",
    "plt.plot(dff[\"time\"],dff[\"TURN_SW_L\"])\n",
    "plt.title(\"Left\")\n",
    "plt.show()\n",
    "plt.plot(dff[\"time\"],dff[\"TURN_SW_R\"])\n",
    "plt.title(\"Right\")\n",
    "plt.show()\n",
    "\n",
    "\n",
    "s = signal.apply(lambda row: convertTo_uint8(row[\"D5\"])[0],axis=1)\n",
    "plt.plot(signal[\"Time Stamp\"],s)\n",
    "plt.show()\n",
    "print(\"Unique values for signal: {}\".format(signal[\"D5\"].unique()))"
   ]
  },
  {
   "cell_type": "code",
   "execution_count": null,
   "metadata": {},
   "outputs": [],
   "source": [
    "data.to_csv()"
   ]
  },
  {
   "cell_type": "code",
   "execution_count": null,
   "metadata": {
    "collapsed": true
   },
   "outputs": [],
   "source": []
  }
 ],
 "metadata": {
  "kernelspec": {
   "display_name": "Python 3",
   "language": "python",
   "name": "python3"
  },
  "language_info": {
   "codemirror_mode": {
    "name": "ipython",
    "version": 3
   },
   "file_extension": ".py",
   "mimetype": "text/x-python",
   "name": "python",
   "nbconvert_exporter": "python",
   "pygments_lexer": "ipython3",
   "version": "3.6.3"
  }
 },
 "nbformat": 4,
 "nbformat_minor": 2
}
